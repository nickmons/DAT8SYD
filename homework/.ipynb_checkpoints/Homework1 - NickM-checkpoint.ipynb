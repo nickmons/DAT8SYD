{
 "cells": [
  {
   "cell_type": "markdown",
   "metadata": {},
   "source": [
    "# SYD DAT 8 Lab 1 - Git and Markdown\n",
    "\n",
    "## Homework:\n",
    "\n",
    "#### Setup\n",
    "* Resolve any installation issues before next class.\n",
    "* Make sure you have a github profile and created a repo called \"SYD_DAT_8\"\n",
    "* Clone the class repo (this one!)\n",
    "* Review this [code](../labs/Week 1/00_python_refresher.py) for a recap of some Python basics.\n",
    "\n",
    "#### Communication\n",
    "* Read [Analyzing the Analyzers](http://cdn.oreillystatic.com/oreilly/radarreport/0636920029014/Analyzing_the_Analyzers.pdf) for a useful look at the different types of data scientists. Write down 5 key points you took away from the article\n",
    "* Read about some [Markdown Techniques](http://daringfireball.net/projects/markdown/syntax)\n",
    "* Write a summary of 2 chapters of [The Data Science Handbook](http://www.thedatasciencehandbook.com/) in Markdown in this notebook and commit it to your repository on github\n",
    "\n",
    "#### Programming\n",
    "* Complete the lab from class and the additional Exercise below\n",
    "\n",
    "#### Course Project\n",
    "* Come up with 5 different ideas for your course project. For each one list:\n",
    "  * Overview of your idea\n",
    "  * What data you will use\n",
    "  * What the outcome is that you are trying to achieve\n",
    "  * Any ideas of modelling techniques it may involve\n",
    "  \n",
    "  Course Project 1 - Financial Modelling Backtesting Tool\n",
    "  Overview - Create a model which evaluates (already made) financial models. This tool will also provide data visulaisation of the evaluation and model outcomes.\n",
    "  Data - underlying data will be financial time series data, which I already have/have access to.\n",
    "  Outcome - I want to achieve a model which can provide insightful and visual backtesting information about a financial model it's evaluating.\n",
    "  Modelling tecniques - evaluation of underlying relationship, logistic regression of trade signalling. \n",
    "  \n",
    "  Course Project 2 - Economic model for USTs\n",
    "  Overview - Look at large changes in UST yield (>50pts within 6months), and assess if key leading eco variables drove these)\n",
    "  Data - UST (changes in yield), 3-5 key economic variables (change)\n",
    "  Outcome - to gain some predictive power on large changes in yield.\n",
    "  Modelling techniques - multiple linear regression of change in leading eco variables to change in UST yield. Evaluate relatiosnhip\n",
    "  \n",
    "\n",
    "**Instructions: copy this file and append your name in the filename, e.g. Homework1_ian_hansel.ipynb.\n",
    "Then commit this in your local repository, push it to your github account so I can see your work. Remeber if you get stuck to look at the slides going over Git**"
   ]
  },
  {
   "cell_type": "code",
   "execution_count": null,
   "metadata": {
    "collapsed": true
   },
   "outputs": [],
   "source": [
    "##Analyzing the Analyzers\n",
    "#1-Data science is a very broad term and is often not well understood.\n",
    "#2-The growing demand for skillsets within data science has created buzzwords and confusion\n",
    "#3-The research in the article breaks down data science skillsets into categories: data businesspeople, data creatives,\n",
    "#data developers, data researchers\n",
    "#4-T-Shaped analysis looks at the breadth and depth of skillsets across a discipline. This becomes an important measure\n",
    "#in data science as it's almost impossibls to have depth across all of the breadth.\n",
    "#5-CEO's and C-suite are on a journey to best define this area of business, and the people within it. The article puts a \n",
    "#helpful framework together to assist in this."
   ]
  },
  {
   "cell_type": "markdown",
   "metadata": {},
   "source": [
    "## Exercise Four - Movie Lens Data"
   ]
  },
  {
   "cell_type": "code",
   "execution_count": null,
   "metadata": {
    "collapsed": true
   },
   "outputs": [],
   "source": [
    "# for each occupation in 'users', count the number of occurrences\n",
    "\n",
    "# for each occupation, calculate the mean age\n",
    "\n",
    "# for each occupation, calculate the minimum and maximum ages\n",
    "\n",
    "# for each combination of occupation and gender, calculate the mean age\n",
    "\n",
    "# randomly sample a DataFrame\n",
    "\n",
    "# detect duplicate users\n",
    "\n",
    "###completed in lab1 jupyter notebook"
   ]
  },
  {
   "cell_type": "code",
   "execution_count": 2,
   "metadata": {
    "collapsed": true
   },
   "outputs": [],
   "source": []
  },
  {
   "cell_type": "code",
   "execution_count": null,
   "metadata": {
    "collapsed": false
   },
   "outputs": [],
   "source": []
  },
  {
   "cell_type": "code",
   "execution_count": null,
   "metadata": {
    "collapsed": true
   },
   "outputs": [],
   "source": []
  }
 ],
 "metadata": {
  "kernelspec": {
   "display_name": "Python 3",
   "language": "python",
   "name": "python3"
  },
  "language_info": {
   "codemirror_mode": {
    "name": "ipython",
    "version": 3
   },
   "file_extension": ".py",
   "mimetype": "text/x-python",
   "name": "python",
   "nbconvert_exporter": "python",
   "pygments_lexer": "ipython3",
   "version": "3.6.0"
  }
 },
 "nbformat": 4,
 "nbformat_minor": 0
}
